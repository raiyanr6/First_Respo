{
  "nbformat": 4,
  "nbformat_minor": 0,
  "metadata": {
    "colab": {
      "provenance": [],
      "include_colab_link": true
    },
    "kernelspec": {
      "name": "python3",
      "display_name": "Python 3"
    },
    "language_info": {
      "name": "python"
    }
  },
  "cells": [
    {
      "cell_type": "markdown",
      "metadata": {
        "id": "view-in-github",
        "colab_type": "text"
      },
      "source": [
        "<a href=\"https://colab.research.google.com/github/raiyanr6/First_Respo/blob/main/Lecture5.ipynb\" target=\"_parent\"><img src=\"https://colab.research.google.com/assets/colab-badge.svg\" alt=\"Open In Colab\"/></a>"
      ]
    },
    {
      "cell_type": "code",
      "execution_count": null,
      "metadata": {
        "id": "S_YcZb1Z2VD2",
        "colab": {
          "base_uri": "https://localhost:8080/",
          "height": 285
        },
        "outputId": "6858fb11-3033-4fbd-b619-aee4ab3f21b4"
      },
      "outputs": [
        {
          "output_type": "display_data",
          "data": {
            "text/plain": [
              "<Figure size 640x480 with 1 Axes>"
            ],
            "image/png": "[encoded data removed]"
          },
          "metadata": {}
        }
      ],
      "source": [
        "import matplotlib.pyplot as plt\n",
        "import matplotlib.patches as patches\n",
        "\n",
        "fig, ax = plt.subplots()\n",
        "\n",
        "# Car body\n",
        "car_body = patches.Rectangle((2, 1), 6, 2, color='blue')\n",
        "\n",
        "# Car roof\n",
        "car_roof = patches.Polygon([[3, 3], [5, 3], [6, 2], [2, 2]], color='cyan')\n",
        "\n",
        "# Wheels\n",
        "wheel1 = patches.Circle((3, 1), 0.5, color='black')\n",
        "wheel2 = patches.Circle((6, 1), 0.5, color='black')\n",
        "\n",
        "for part in [car_body, car_roof, wheel1, wheel2]:\n",
        "    ax.add_patch(part)\n",
        "\n",
        "ax.set_xlim(0, 10)\n",
        "ax.set_ylim(0, 5)\n",
        "ax.set_aspect('equal')\n",
        "plt.axis('off')\n",
        "plt.show()\n",
        "# Ahmed Awelkair\n",
        "# Group 1"
      ]
    },
    {
      "cell_type": "code",
      "source": [
        "#XiaoYan\n",
        "#Azfarul\n",
        "#Group 13"
      ],
      "metadata": {
        "id": "cN6Ufgk85LWH"
      },
      "execution_count": null,
      "outputs": []
    },
    {
      "cell_type": "code",
      "source": [
        "#Jayasharma Naidu\n",
        "#Group 14"
      ],
      "metadata": {
        "id": "gqS2PI-N4XjZ"
      },
      "execution_count": null,
      "outputs": []
    },
    {
      "cell_type": "code",
      "source": [
        "# Chin Zheng Yu\n",
        "# Dominic Chong Rong Yao\n",
        "# Ng Zhi Yang\n",
        "# Group 8"
      ],
      "metadata": {
        "id": "1xwKcZFz4aTn"
      },
      "execution_count": null,
      "outputs": []
    },
    {
      "cell_type": "code",
      "source": [
        "# muhammad darwish okai bin firdaus\n",
        "#Group 12"
      ],
      "metadata": {
        "id": "dxSLe3495h54"
      },
      "execution_count": null,
      "outputs": []
    },
    {
      "cell_type": "code",
      "source": [
        "# Wan\n",
        "# Group 2"
      ],
      "metadata": {
        "id": "y1MYnNM35k1U"
      },
      "execution_count": null,
      "outputs": []
    },
    {
      "cell_type": "code",
      "source": [
        "#TEAM 1\n",
        "!pip install ColabTurtlePlus"
      ],
      "metadata": {
        "id": "V6stZDag7PO2",
        "outputId": "c5df03d6-41d5-4a37-aa75-cc88d550f163",
        "colab": {
          "base_uri": "https://localhost:8080/"
        }
      },
      "execution_count": null,
      "outputs": [
        {
          "output_type": "stream",
          "name": "stdout",
          "text": [
            "Collecting ColabTurtlePlus\n",
            "  Downloading ColabTurtlePlus-2.0.1-py3-none-any.whl.metadata (10 kB)\n",
            "Downloading ColabTurtlePlus-2.0.1-py3-none-any.whl (31 kB)\n",
            "Installing collected packages: ColabTurtlePlus\n",
            "Successfully installed ColabTurtlePlus-2.0.1\n"
          ]
        }
      ]
    },
    {
      "cell_type": "code",
      "source": [
        "#TEAM 1\n",
        "from ColabTurtlePlus.Turtle import *\n",
        "initializeTurtle()\n",
        "speed(1)"
      ],
      "metadata": {
        "colab": {
          "base_uri": "https://localhost:8080/",
          "height": 639
        },
        "id": "cqlNZHRe7itE",
        "outputId": "8e21518f-9c8b-4e30-b620-451c755b2074"
      },
      "execution_count": null,
      "outputs": [
        {
          "output_type": "stream",
          "name": "stdout",
          "text": [
            "Put clearscreen() as the first line in a cell (after the import command) to re-run turtle commands in the cell\n"
          ]
        },
        {
          "output_type": "display_data",
          "data": {
            "text/plain": [
              "<IPython.core.display.HTML object>"
            ],
            "text/html": [
              "\n",
              "      <svg width=\"800\" height=\"600\">  \n",
              "        <rect width=\"100%\" height=\"100%\" style=\"fill:white;stroke:;stroke-width:1\"/>\n",
              "        \n",
              "        \n",
              "        \n",
              "        \n",
              "        \n",
              "        <g id=\"classic\" visibility=\"visible\" transform=\"rotate(-90,400.0,300.0) translate(400.0, 300.0)\">\n",
              "<polygon points=\"-5,-4.5 0,-2.5 5,-4.5 0,4.5\" transform=\"skewX(0) scale(1,1)\" style=\"stroke:black;fill:black;stroke-width:1\" />\n",
              "</g>\n",
              "      </svg>\n",
              "    "
            ]
          },
          "metadata": {}
        }
      ]
    },
    {
      "cell_type": "code",
      "source": [
        "#TEAM 2\n",
        "# Modified Door\n",
        "penup()\n",
        "goto(30, 0)  # New position\n",
        "pendown()\n",
        "color(\"brown\")  # New door color\n",
        "begin_fill()\n",
        "forward(80)  # New height\n",
        "right(90)\n",
        "forward(40)  # Door width\n",
        "right(90)\n",
        "forward(80)\n",
        "right(90)\n",
        "forward(40)\n",
        "right(90)\n",
        "end_fill()\n"
      ],
      "metadata": {
        "colab": {
          "base_uri": "https://localhost:8080/",
          "height": 622
        },
        "id": "-BHiCm267en7",
        "outputId": "35c10562-738a-4d60-bf1c-e21fdfc3f210"
      },
      "execution_count": null,
      "outputs": [
        {
          "output_type": "display_data",
          "data": {
            "text/plain": [
              "<IPython.core.display.HTML object>"
            ],
            "text/html": [
              "\n",
              "      <svg width=\"800\" height=\"600\">  \n",
              "        <rect width=\"100%\" height=\"100%\" style=\"fill:white;stroke:;stroke-width:1\"/>\n",
              "        \n",
              "        \n",
              "        <path fill-rule=\"evenodd\" fill-opacity=\"1\" d=\"M 430.0 300.0  L 510.0 300.0  L 510.0 340.0  L 430.0 340.0  L 430.0 300.0 \" stroke-linecap=\"round\" style=\"stroke:brown;stroke-width:1\" fill=\"brown\" />\n",
              "        \n",
              "        \n",
              "        <g id=\"classic\" visibility=\"visible\" transform=\"rotate(-90,430.0,300.0) translate(430.0, 300.0)\">\n",
              "<polygon points=\"-5,-4.5 0,-2.5 5,-4.5 0,4.5\" transform=\"skewX(0) scale(1,1)\" style=\"stroke:brown;fill:brown;stroke-width:1\" />\n",
              "</g>\n",
              "      </svg>\n",
              "    "
            ]
          },
          "metadata": {}
        }
      ]
    },
    {
      "cell_type": "code",
      "source": [
        "#Group 13 (Cloud and bird)\n",
        "initializeTurtle()  # If using ColabTurtle, initialize it\n",
        "speed(1)  # Set drawing speed\n"
      ],
      "metadata": {
        "id": "1KSYElyM-Nic"
      },
      "execution_count": null,
      "outputs": []
    },
    {
      "cell_type": "code",
      "source": [
        "#Group 6\n",
        "pen = turtle.Turtle()\n",
        "pen.speed(1)\n",
        "pen.pensize(3)\n",
        "pen.color(\"black\", \"lightyellow\")\n",
        "def draw_window(x, y, width=40, height=40):\n",
        "    pen.penup()\n",
        "    pen.goto(x, y)\n",
        "    pen.pendown()\n",
        "    pen.begin_fill()\n",
        "    for _ in range(2):\n",
        "        pen.forward(width)\n",
        "        pen.right(90)\n",
        "        pen.forward(height)\n",
        "        pen.right(90)\n",
        "    pen.end_fill()\n",
        "\n",
        "# Example: draw a window at position x=20, y=150\n",
        "draw_window(20, 150)\n",
        "\n",
        "pen.hideturtle()\n",
        "turtle.done()"
      ],
      "metadata": {
        "id": "icjEF5DR7PxV",
        "outputId": "c4681823-6bdb-43a4-af1d-4c640818964f",
        "colab": {
          "base_uri": "https://localhost:8080/",
          "height": 211
        }
      },
      "execution_count": null,
      "outputs": [
        {
          "output_type": "error",
          "ename": "NameError",
          "evalue": "name 'turtle' is not defined",
          "traceback": [
            "\u001b[0;31m---------------------------------------------------------------------------\u001b[0m",
            "\u001b[0;31mNameError\u001b[0m                                 Traceback (most recent call last)",
            "\u001b[0;32m<ipython-input-4-d85c5cfe5b4f>\u001b[0m in \u001b[0;36m<cell line: 0>\u001b[0;34m()\u001b[0m\n\u001b[1;32m      1\u001b[0m \u001b[0;31m#Group 6\u001b[0m\u001b[0;34m\u001b[0m\u001b[0;34m\u001b[0m\u001b[0m\n\u001b[0;32m----> 2\u001b[0;31m \u001b[0mpen\u001b[0m \u001b[0;34m=\u001b[0m \u001b[0mturtle\u001b[0m\u001b[0;34m.\u001b[0m\u001b[0mTurtle\u001b[0m\u001b[0;34m(\u001b[0m\u001b[0;34m)\u001b[0m\u001b[0;34m\u001b[0m\u001b[0;34m\u001b[0m\u001b[0m\n\u001b[0m\u001b[1;32m      3\u001b[0m \u001b[0mpen\u001b[0m\u001b[0;34m.\u001b[0m\u001b[0mspeed\u001b[0m\u001b[0;34m(\u001b[0m\u001b[0;36m1\u001b[0m\u001b[0;34m)\u001b[0m\u001b[0;34m\u001b[0m\u001b[0;34m\u001b[0m\u001b[0m\n\u001b[1;32m      4\u001b[0m \u001b[0mpen\u001b[0m\u001b[0;34m.\u001b[0m\u001b[0mpensize\u001b[0m\u001b[0;34m(\u001b[0m\u001b[0;36m3\u001b[0m\u001b[0;34m)\u001b[0m\u001b[0;34m\u001b[0m\u001b[0;34m\u001b[0m\u001b[0m\n\u001b[1;32m      5\u001b[0m \u001b[0mpen\u001b[0m\u001b[0;34m.\u001b[0m\u001b[0mcolor\u001b[0m\u001b[0;34m(\u001b[0m\u001b[0;34m\"black\"\u001b[0m\u001b[0;34m,\u001b[0m \u001b[0;34m\"lightyellow\"\u001b[0m\u001b[0;34m)\u001b[0m\u001b[0;34m\u001b[0m\u001b[0;34m\u001b[0m\u001b[0m\n",
            "\u001b[0;31mNameError\u001b[0m: name 'turtle' is not defined"
          ]
        }
      ]
    },
    {
      "cell_type": "code",
      "source": [
        "# Group 4\n",
        "# Modifying the base of the house (larger)\n",
        "forward(150)  # Front side\n",
        "left(90)\n",
        "forward(150)  # Right side\n",
        "left(90)\n",
        "forward(150)  # Back side\n",
        "left(90)\n",
        "forward(150)  # Left side\n",
        "left(90)\n"
      ],
      "metadata": {
        "colab": {
          "base_uri": "https://localhost:8080/",
          "height": 621
        },
        "id": "DpN4Rnh7_HBa",
        "outputId": "20b98094-6c1c-4da5-e8bc-f6929ee92577"
      },
      "execution_count": null,
      "outputs": [
        {
          "output_type": "display_data",
          "data": {
            "text/plain": [
              "<IPython.core.display.HTML object>"
            ],
            "text/html": [
              "\n",
              "      <svg width=\"800\" height=\"600\">  \n",
              "        <rect width=\"100%\" height=\"100%\" style=\"fill:white;stroke:;stroke-width:1\"/>\n",
              "        \n",
              "        \n",
              "        <line x1=\"400.0\" y1=\"300.0\" x2=\"500.0\" y2=\"300.0\" stroke-linecap=\"round\" style=\"stroke:black;stroke-width:1\" /><line x1=\"500.0\" y1=\"300.0\" x2=\"500.0\" y2=\"200.0\" stroke-linecap=\"round\" style=\"stroke:black;stroke-width:1\" /><line x1=\"500.0\" y1=\"200.0\" x2=\"400.0\" y2=\"200.0\" stroke-linecap=\"round\" style=\"stroke:black;stroke-width:1\" /><line x1=\"400.0\" y1=\"200.0\" x2=\"400.0\" y2=\"300.0\" stroke-linecap=\"round\" style=\"stroke:black;stroke-width:1\" /><line x1=\"400.0\" y1=\"300.0\" x2=\"500.0\" y2=\"300.0\" stroke-linecap=\"round\" style=\"stroke:black;stroke-width:1\" /><line x1=\"500.0\" y1=\"300.0\" x2=\"549.497\" y2=\"250.503\" stroke-linecap=\"round\" style=\"stroke:black;stroke-width:1\" /><line x1=\"549.497\" y1=\"250.503\" x2=\"500.0\" y2=\"201.006\" stroke-linecap=\"round\" style=\"stroke:black;stroke-width:1\" /><line x1=\"440.0\" y1=\"300.0\" x2=\"440.0\" y2=\"360.0\" stroke-linecap=\"round\" style=\"stroke:black;stroke-width:1\" /><line x1=\"420.0\" y1=\"250.0\" x2=\"420.0\" y2=\"350.0\" stroke-linecap=\"round\" style=\"stroke:black;stroke-width:1\" /><line x1=\"420.0\" y1=\"350.0\" x2=\"520.0\" y2=\"350.0\" stroke-linecap=\"round\" style=\"stroke:black;stroke-width:1\" /><line x1=\"520.0\" y1=\"350.0\" x2=\"520.0\" y2=\"250.0\" stroke-linecap=\"round\" style=\"stroke:black;stroke-width:1\" /><line x1=\"520.0\" y1=\"250.0\" x2=\"420.0\" y2=\"250.0\" stroke-linecap=\"round\" style=\"stroke:black;stroke-width:1\" /><line x1=\"420.0\" y1=\"250.0\" x2=\"420.0\" y2=\"350.0\" stroke-linecap=\"round\" style=\"stroke:black;stroke-width:1\" /><line x1=\"420.0\" y1=\"350.0\" x2=\"469.497\" y2=\"399.497\" stroke-linecap=\"round\" style=\"stroke:black;stroke-width:1\" /><line x1=\"469.497\" y1=\"399.497\" x2=\"518.994\" y2=\"350.0\" stroke-linecap=\"round\" style=\"stroke:black;stroke-width:1\" /><line x1=\"440.0\" y1=\"300.0\" x2=\"380.0\" y2=\"300.0\" stroke-linecap=\"round\" style=\"stroke:black;stroke-width:1\" /><line x1=\"420.0\" y1=\"250.0\" x2=\"320.0\" y2=\"250.0\" stroke-linecap=\"round\" style=\"stroke:black;stroke-width:1\" /><line x1=\"320.0\" y1=\"250.0\" x2=\"320.0\" y2=\"350.0\" stroke-linecap=\"round\" style=\"stroke:black;stroke-width:1\" /><line x1=\"320.0\" y1=\"350.0\" x2=\"420.0\" y2=\"350.0\" stroke-linecap=\"round\" style=\"stroke:black;stroke-width:1\" /><line x1=\"420.0\" y1=\"350.0\" x2=\"420.0\" y2=\"250.0\" stroke-linecap=\"round\" style=\"stroke:black;stroke-width:1\" /><line x1=\"420.0\" y1=\"250.0\" x2=\"320.0\" y2=\"250.0\" stroke-linecap=\"round\" style=\"stroke:black;stroke-width:1\" /><line x1=\"320.0\" y1=\"250.0\" x2=\"270.503\" y2=\"299.497\" stroke-linecap=\"round\" style=\"stroke:black;stroke-width:1\" /><line x1=\"270.503\" y1=\"299.497\" x2=\"320.0\" y2=\"348.994\" stroke-linecap=\"round\" style=\"stroke:black;stroke-width:1\" /><line x1=\"440.0\" y1=\"300.0\" x2=\"440.0\" y2=\"240.0\" stroke-linecap=\"round\" style=\"stroke:black;stroke-width:1\" /><path fill-rule=\"evenodd\" fill-opacity=\"1\" d=\"M 430.0 300.0  L 430.0 220.0  L 470.0 220.0  L 470.0 300.0  L 430.0 300.0 \" stroke-linecap=\"round\" style=\"stroke:brown;stroke-width:1\" fill=\"brown\" /><line x1=\"430.0\" y1=\"300.0\" x2=\"430.0\" y2=\"150.0\" stroke-linecap=\"round\" style=\"stroke:brown;stroke-width:1\" /><line x1=\"430.0\" y1=\"150.0\" x2=\"280.0\" y2=\"150.0\" stroke-linecap=\"round\" style=\"stroke:brown;stroke-width:1\" /><line x1=\"280.0\" y1=\"150.0\" x2=\"280.0\" y2=\"300.0\" stroke-linecap=\"round\" style=\"stroke:brown;stroke-width:1\" /><line x1=\"280.0\" y1=\"300.0\" x2=\"430.0\" y2=\"300.0\" stroke-linecap=\"round\" style=\"stroke:brown;stroke-width:1\" />\n",
              "        \n",
              "        \n",
              "        <g id=\"classic\" visibility=\"visible\" transform=\"rotate(-90,430.0,300.0) translate(430.0, 300.0)\">\n",
              "<polygon points=\"-5,-4.5 0,-2.5 5,-4.5 0,4.5\" transform=\"skewX(0) scale(1,1)\" style=\"stroke:brown;fill:brown;stroke-width:1\" />\n",
              "<animateTransform id = \"one\" attributeName=\"transform\" \n",
              "                      type=\"scale\"\n",
              "                      from=\"1 1\" to=\"1 1\"\n",
              "                      begin=\"0s\" dur=\"0.01s\"\n",
              "                      repeatCount=\"1\"\n",
              "                      additive=\"sum\"\n",
              "                      fill=\"freeze\"\n",
              "                /><animateTransform attributeName=\"transform\"\n",
              "                    type=\"rotate\"\n",
              "                    from=\"0 0 0\" to =\"-90 0 0\"\n",
              "                    begin=\"one.end\" dur=\"1.0s\"\n",
              "                    repeatCount=\"1\"\n",
              "                    additive=\"sum\"\n",
              "                    fill=\"freeze\"\n",
              "                /></g>\n",
              "      </svg>\n",
              "    "
            ]
          },
          "metadata": {}
        }
      ]
    }
  ]
}